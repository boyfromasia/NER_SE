{
 "cells": [
  {
   "cell_type": "code",
   "execution_count": 1,
   "metadata": {
    "ExecuteTime": {
     "end_time": "2024-04-01T15:18:51.197106Z",
     "start_time": "2024-04-01T15:18:51.192586Z"
    }
   },
   "outputs": [],
   "source": [
    "# import os\n",
    "# import sys\n",
    "# DIR_PREFIX = \"/home/user/commits/NER\"\n",
    "# os.environ[\"CUDA_VISIBLE_DEVICES\"] = \"1\""
   ]
  },
  {
   "cell_type": "code",
   "execution_count": 2,
   "metadata": {
    "colab": {
     "base_uri": "https://localhost:8080/"
    },
    "id": "oeMEteliuHRF",
    "outputId": "429cdcc0-99a4-4b76-c994-e004e25850c8"
   },
   "outputs": [
    {
     "name": "stderr",
     "output_type": "stream",
     "text": [
      "[nltk_data] Downloading package punkt to\n",
      "[nltk_data]     C:\\Users\\abuboba\\AppData\\Roaming\\nltk_data...\n",
      "[nltk_data]   Package punkt is already up-to-date!\n"
     ]
    },
    {
     "data": {
      "text/plain": [
       "'checkpoints/FacebookAI/roberta-base-token-clf'"
      ]
     },
     "execution_count": 2,
     "metadata": {},
     "output_type": "execute_result"
    }
   ],
   "source": [
    "import argparse\n",
    "import glob\n",
    "import os\n",
    "import json\n",
    "import time\n",
    "import logging\n",
    "import random\n",
    "import re\n",
    "from itertools import chain\n",
    "from string import punctuation\n",
    "\n",
    "import nltk\n",
    "nltk.download('punkt')\n",
    "from nltk.tokenize import sent_tokenize\n",
    "\n",
    "import pandas as pd\n",
    "import numpy as np\n",
    "import torch\n",
    "from torch.utils.data import Dataset, DataLoader\n",
    "# import pytorch_lightning as pl\n",
    "\n",
    "\n",
    "from transformers import (\n",
    "    AdamW,\n",
    "    MT5ForConditionalGeneration,\n",
    "    T5ForConditionalGeneration,\n",
    "    T5TokenizerFast,\n",
    "    AutoTokenizer,\n",
    "    RobertaTokenizerFast,\n",
    "    T5ForTokenClassification,\n",
    "    get_linear_schedule_with_warmup\n",
    ")\n",
    "\n",
    "def set_seed(seed):\n",
    "  random.seed(seed)\n",
    "  np.random.seed(seed)\n",
    "  torch.manual_seed(seed)\n",
    "  if torch.cuda.is_available():\n",
    "    torch.cuda.manual_seed_all(seed)\n",
    "\n",
    "set_seed(42)\n",
    "\n",
    "label2id = {'O': 0, 'B-ALG': 1, 'I-ALG': 2, 'B-APP': 3, 'I-APP': 4, 'B-CB': 5, 'I-CB': 6, 'B-CLA': 7, 'I-CLA': 8, 'B-DEV': 9, 'I-DEV': 10, 'B-DS': 11, 'I-DS': 12, 'B-DT': 13, 'I-DT': 14, 'B-FN': 15, 'I-FN': 16, 'B-FT': 17, 'I-FT': 18, 'B-FUN': 19, 'I-FUN': 20, 'B-HXT': 21, 'I-HXT': 22, 'B-LAN': 23, 'I-LAN': 24, 'B-LIB': 25, 'I-LIB': 26, 'B-OS': 27, 'I-OS': 28, 'B-UIE': 29, 'I-UIE': 30, 'B-UN': 31, 'I-UN': 32, 'B-VAL': 33, 'I-VAL': 34, 'B-VAR': 35, 'I-VAR': 36, 'B-VER': 37, 'I-VER': 38, 'B-WEB': 39, 'I-WEB': 40}\n",
    "id2label = {label2id[x]: x for x in label2id}\n",
    "labels = ['Algorithm', 'Application', 'Class', 'Code_Block', 'Data_Structure', 'Data_Type', 'Device', 'File_Name', 'File_Type', 'Function', 'HTML_XML_Tag', 'Language', 'Library', 'Operating_System', 'User_Interface_Element', 'User_Name', 'Value', 'Variable', 'Version', 'Website']\n",
    "labels_short = ['ALG', 'APP', 'CB', 'CLA', 'DEV', 'DS', 'DT', 'FN', 'FT', 'FUN', 'HXT', 'LAN', 'LIB', 'OS', 'UIE', 'UN', 'VAL', 'VAR', 'VER', 'WEB']\n",
    "short2long = {'ALG': 'Algorithm', 'APP': 'Application', 'CB': 'Class', 'CLA': 'Code_Block', 'DEV': 'Data_Structure', 'DS': 'Data_Type', 'DT': 'Device', 'FN': 'File_Name', 'FT': 'File_Type', 'FUN': 'Function', 'HXT': 'HTML_XML_Tag', 'LAN': 'Language', 'LIB': 'Library', 'OS': 'Operating_System', 'UIE': 'User_Interface_Element', 'UN': 'User_Name', 'VAL': 'Value', 'VAR': 'Variable', 'VER': 'Version', 'WEB': 'Website'}\n",
    "\n",
    "model_name = \"FacebookAI/roberta-base\"\n",
    "model_checkpoint_path = f\"checkpoints/{model_name}-token-clf\"\n",
    "model_checkpoint_path"
   ]
  },
  {
   "cell_type": "code",
   "execution_count": 7,
   "metadata": {
    "id": "cduCgNT3uREP"
   },
   "outputs": [],
   "source": [
    "from datasets import load_dataset\n",
    "\n",
    "path = \"data/StackOverflow/json/\"\n",
    "\n",
    "dataset = load_dataset('json', data_files=os.path.join(path, 'data_train.json'))\n",
    "dataset[\"test\"] = load_dataset('json', data_files=os.path.join(path, 'data_test.json'))[\"train\"]\n",
    "dataset[\"validation\"] = load_dataset('json', data_files=os.path.join(path, 'data_dev.json'))[\"train\"]\n"
   ]
  },
  {
   "cell_type": "code",
   "execution_count": 8,
   "metadata": {
    "id": "V33SesdCuURn"
   },
   "outputs": [
    {
     "data": {
      "application/vnd.jupyter.widget-view+json": {
       "model_id": "c5dd76a4e2f34990a922b47dae7294fe",
       "version_major": 2,
       "version_minor": 0
      },
      "text/plain": [
       "tokenizer_config.json:   0%|          | 0.00/25.0 [00:00<?, ?B/s]"
      ]
     },
     "metadata": {},
     "output_type": "display_data"
    },
    {
     "data": {
      "application/vnd.jupyter.widget-view+json": {
       "model_id": "dc80951258e9497b8c550ca34ae49a71",
       "version_major": 2,
       "version_minor": 0
      },
      "text/plain": [
       "vocab.json:   0%|          | 0.00/899k [00:00<?, ?B/s]"
      ]
     },
     "metadata": {},
     "output_type": "display_data"
    },
    {
     "data": {
      "application/vnd.jupyter.widget-view+json": {
       "model_id": "e23828d181e4485cb84df9abbe4cce6d",
       "version_major": 2,
       "version_minor": 0
      },
      "text/plain": [
       "merges.txt:   0%|          | 0.00/456k [00:00<?, ?B/s]"
      ]
     },
     "metadata": {},
     "output_type": "display_data"
    },
    {
     "data": {
      "application/vnd.jupyter.widget-view+json": {
       "model_id": "318e12d6ae3b4a1c82cae3efe8e93eb4",
       "version_major": 2,
       "version_minor": 0
      },
      "text/plain": [
       "tokenizer.json:   0%|          | 0.00/1.36M [00:00<?, ?B/s]"
      ]
     },
     "metadata": {},
     "output_type": "display_data"
    },
    {
     "data": {
      "application/vnd.jupyter.widget-view+json": {
       "model_id": "9eb5d8051f334c639415e6c492505d44",
       "version_major": 2,
       "version_minor": 0
      },
      "text/plain": [
       "config.json:   0%|          | 0.00/481 [00:00<?, ?B/s]"
      ]
     },
     "metadata": {},
     "output_type": "display_data"
    }
   ],
   "source": [
    "tokenizer = RobertaTokenizerFast.from_pretrained(model_name, add_prefix_space=True)"
   ]
  },
  {
   "cell_type": "code",
   "execution_count": 9,
   "metadata": {
    "colab": {
     "base_uri": "https://localhost:8080/"
    },
    "id": "pRqpLfxaxKM_",
    "outputId": "56e6a116-0225-4cbf-9f85-56f70514364f"
   },
   "outputs": [
    {
     "data": {
      "text/plain": [
       "['<s>', 'ĠIf', 'ĠI', 'Ġwould', 'Ġhave', 'Ġ2', 'Ġtables', '</s>']"
      ]
     },
     "execution_count": 9,
     "metadata": {},
     "output_type": "execute_result"
    }
   ],
   "source": [
    "example = dataset[\"train\"][0]\n",
    "tokenized_input = tokenizer(example[\"tokens\"], is_split_into_words=True)\n",
    "tokens = tokenizer.convert_ids_to_tokens(tokenized_input[\"input_ids\"])\n",
    "tokens"
   ]
  },
  {
   "cell_type": "code",
   "execution_count": 10,
   "metadata": {
    "id": "0ECkNyjLxQwK"
   },
   "outputs": [],
   "source": [
    "def tokenize_and_align_labels(examples):\n",
    "    tokenized_inputs = tokenizer(examples[\"tokens\"], truncation=True, is_split_into_words=True)\n",
    "\n",
    "    labels = []\n",
    "    for i, label in enumerate(examples[f\"ner_tags\"]):\n",
    "        word_ids = tokenized_inputs.word_ids(batch_index=i)  # Map tokens to their respective word.\n",
    "        previous_word_idx = None\n",
    "        label_ids = []\n",
    "        for word_idx in word_ids:  # Set the special tokens to -100.\n",
    "            if word_idx is None:\n",
    "                label_ids.append(-100)\n",
    "            elif word_idx != previous_word_idx:  # Only label the first token of a given word.\n",
    "                label_ids.append(label[word_idx])\n",
    "            else:\n",
    "                label_ids.append(-100)\n",
    "            previous_word_idx = word_idx\n",
    "        labels.append(label_ids)\n",
    "\n",
    "    tokenized_inputs[\"labels\"] = labels\n",
    "    return tokenized_inputs"
   ]
  },
  {
   "cell_type": "code",
   "execution_count": 11,
   "metadata": {
    "id": "XEJCv5UnxjsA"
   },
   "outputs": [
    {
     "data": {
      "application/vnd.jupyter.widget-view+json": {
       "model_id": "97dde0789f3f4663b6e958b17ed38fa9",
       "version_major": 2,
       "version_minor": 0
      },
      "text/plain": [
       "Map:   0%|          | 0/9263 [00:00<?, ? examples/s]"
      ]
     },
     "metadata": {},
     "output_type": "display_data"
    },
    {
     "data": {
      "application/vnd.jupyter.widget-view+json": {
       "model_id": "cc1c0ffda11e456f811450667b34892b",
       "version_major": 2,
       "version_minor": 0
      },
      "text/plain": [
       "Map:   0%|          | 0/3108 [00:00<?, ? examples/s]"
      ]
     },
     "metadata": {},
     "output_type": "display_data"
    },
    {
     "data": {
      "application/vnd.jupyter.widget-view+json": {
       "model_id": "1687d5c8642a4f17bc10aa7a132ff84b",
       "version_major": 2,
       "version_minor": 0
      },
      "text/plain": [
       "Map:   0%|          | 0/2936 [00:00<?, ? examples/s]"
      ]
     },
     "metadata": {},
     "output_type": "display_data"
    }
   ],
   "source": [
    "tokenized_dataset = dataset.map(tokenize_and_align_labels, batched=True)"
   ]
  },
  {
   "cell_type": "code",
   "execution_count": 12,
   "metadata": {
    "colab": {
     "base_uri": "https://localhost:8080/"
    },
    "id": "pP5msi4VyB1f",
    "outputId": "0fe1c82e-26e4-453e-e62e-a01e42ed253a"
   },
   "outputs": [
    {
     "data": {
      "text/plain": [
       "DatasetDict({\n",
       "    train: Dataset({\n",
       "        features: ['tokens', 'spans', 'ner_tags', 'input_ids', 'attention_mask', 'labels'],\n",
       "        num_rows: 9263\n",
       "    })\n",
       "    test: Dataset({\n",
       "        features: ['tokens', 'spans', 'ner_tags', 'input_ids', 'attention_mask', 'labels'],\n",
       "        num_rows: 3108\n",
       "    })\n",
       "    validation: Dataset({\n",
       "        features: ['tokens', 'spans', 'ner_tags', 'input_ids', 'attention_mask', 'labels'],\n",
       "        num_rows: 2936\n",
       "    })\n",
       "})"
      ]
     },
     "execution_count": 12,
     "metadata": {},
     "output_type": "execute_result"
    }
   ],
   "source": [
    "tokenized_dataset"
   ]
  },
  {
   "cell_type": "code",
   "execution_count": 13,
   "metadata": {
    "id": "JswfV0oNyKSx"
   },
   "outputs": [],
   "source": [
    "from transformers import DataCollatorForTokenClassification\n",
    "\n",
    "data_collator = DataCollatorForTokenClassification(tokenizer=tokenizer)"
   ]
  },
  {
   "cell_type": "code",
   "execution_count": 14,
   "metadata": {
    "id": "DTO5IsERyaEZ"
   },
   "outputs": [],
   "source": [
    "import numpy as np\n",
    "import evaluate\n",
    "\n",
    "seqeval = evaluate.load(\"seqeval\")\n",
    "label_list = list(label2id.keys())\n",
    "labels = [label_list[i] for i in example[f\"ner_tags\"]]\n",
    "\n",
    "\n",
    "def compute_metrics(p, full=False):\n",
    "    predictions, labels = p\n",
    "    if full is False:\n",
    "        predictions = np.argmax(predictions, axis=2)\n",
    "\n",
    "    true_predictions = [\n",
    "        [label_list[p] for (p, l) in zip(prediction, label) if l != -100]\n",
    "        for prediction, label in zip(predictions, labels)\n",
    "    ]\n",
    "    true_labels = [\n",
    "        [label_list[l] for (p, l) in zip(prediction, label) if l != -100]\n",
    "        for prediction, label in zip(predictions, labels)\n",
    "    ]\n",
    "\n",
    "    results = seqeval.compute(predictions=true_predictions, references=true_labels)\n",
    "    if full:\n",
    "        return results\n",
    "    else:\n",
    "        return {\n",
    "            \"precision\": results[\"overall_precision\"],\n",
    "            \"recall\": results[\"overall_recall\"],\n",
    "            \"f1\": results[\"overall_f1\"],\n",
    "            \"accuracy\": results[\"overall_accuracy\"],\n",
    "        }"
   ]
  },
  {
   "cell_type": "code",
   "execution_count": 15,
   "metadata": {
    "colab": {
     "base_uri": "https://localhost:8080/"
    },
    "id": "afL0NRbszVwo",
    "outputId": "bce3849b-b2a5-4fd7-b680-45e984019f26"
   },
   "outputs": [
    {
     "data": {
      "application/vnd.jupyter.widget-view+json": {
       "model_id": "3cca91fe7f4c42e9860d03e4b2b567c6",
       "version_major": 2,
       "version_minor": 0
      },
      "text/plain": [
       "model.safetensors:   0%|          | 0.00/499M [00:00<?, ?B/s]"
      ]
     },
     "metadata": {},
     "output_type": "display_data"
    },
    {
     "name": "stderr",
     "output_type": "stream",
     "text": [
      "Some weights of RobertaForTokenClassification were not initialized from the model checkpoint at FacebookAI/roberta-base and are newly initialized: ['classifier.bias', 'classifier.weight']\n",
      "You should probably TRAIN this model on a down-stream task to be able to use it for predictions and inference.\n"
     ]
    }
   ],
   "source": [
    "from transformers import TrainingArguments, Trainer, AutoModelForTokenClassification\n",
    "\n",
    "model = AutoModelForTokenClassification.from_pretrained(\n",
    "    model_name, num_labels=len(label2id), id2label=id2label, label2id=label2id, device_map='cuda'\n",
    ")\n",
    "model.model_parallel = False"
   ]
  },
  {
   "cell_type": "code",
   "execution_count": 16,
   "metadata": {
    "colab": {
     "base_uri": "https://localhost:8080/",
     "height": 1000
    },
    "id": "kvFCjbQmzp_I",
    "outputId": "a51f2f76-8211-4ec8-a25f-8ae6f4dc6355"
   },
   "outputs": [
    {
     "name": "stderr",
     "output_type": "stream",
     "text": [
      "C:\\Users\\abuboba\\.conda\\envs\\Assignment1_PMLDL\\Lib\\site-packages\\accelerate\\accelerator.py:432: FutureWarning: Passing the following arguments to `Accelerator` is deprecated and will be removed in version 1.0 of Accelerate: dict_keys(['dispatch_batches', 'split_batches', 'even_batches', 'use_seedable_sampler']). Please pass an `accelerate.DataLoaderConfiguration` instead: \n",
      "dataloader_config = DataLoaderConfiguration(dispatch_batches=None, split_batches=False, even_batches=True, use_seedable_sampler=True)\n",
      "  warnings.warn(\n"
     ]
    },
    {
     "data": {
      "text/html": [
       "\n",
       "    <div>\n",
       "      \n",
       "      <progress value='11580' max='11580' style='width:300px; height:20px; vertical-align: middle;'></progress>\n",
       "      [11580/11580 29:29, Epoch 10/10]\n",
       "    </div>\n",
       "    <table border=\"1\" class=\"dataframe\">\n",
       "  <thead>\n",
       " <tr style=\"text-align: left;\">\n",
       "      <th>Epoch</th>\n",
       "      <th>Training Loss</th>\n",
       "      <th>Validation Loss</th>\n",
       "      <th>Precision</th>\n",
       "      <th>Recall</th>\n",
       "      <th>F1</th>\n",
       "      <th>Accuracy</th>\n",
       "    </tr>\n",
       "  </thead>\n",
       "  <tbody>\n",
       "    <tr>\n",
       "      <td>1</td>\n",
       "      <td>0.240100</td>\n",
       "      <td>0.217960</td>\n",
       "      <td>0.562854</td>\n",
       "      <td>0.512107</td>\n",
       "      <td>0.536283</td>\n",
       "      <td>0.943062</td>\n",
       "    </tr>\n",
       "    <tr>\n",
       "      <td>2</td>\n",
       "      <td>0.162800</td>\n",
       "      <td>0.209566</td>\n",
       "      <td>0.630091</td>\n",
       "      <td>0.585781</td>\n",
       "      <td>0.607129</td>\n",
       "      <td>0.949408</td>\n",
       "    </tr>\n",
       "    <tr>\n",
       "      <td>3</td>\n",
       "      <td>0.116300</td>\n",
       "      <td>0.224686</td>\n",
       "      <td>0.624868</td>\n",
       "      <td>0.609737</td>\n",
       "      <td>0.617210</td>\n",
       "      <td>0.950352</td>\n",
       "    </tr>\n",
       "    <tr>\n",
       "      <td>4</td>\n",
       "      <td>0.076900</td>\n",
       "      <td>0.237704</td>\n",
       "      <td>0.613450</td>\n",
       "      <td>0.596857</td>\n",
       "      <td>0.605040</td>\n",
       "      <td>0.948530</td>\n",
       "    </tr>\n",
       "    <tr>\n",
       "      <td>5</td>\n",
       "      <td>0.049000</td>\n",
       "      <td>0.274546</td>\n",
       "      <td>0.619490</td>\n",
       "      <td>0.619011</td>\n",
       "      <td>0.619250</td>\n",
       "      <td>0.948442</td>\n",
       "    </tr>\n",
       "    <tr>\n",
       "      <td>6</td>\n",
       "      <td>0.033800</td>\n",
       "      <td>0.282732</td>\n",
       "      <td>0.630635</td>\n",
       "      <td>0.616177</td>\n",
       "      <td>0.623322</td>\n",
       "      <td>0.950089</td>\n",
       "    </tr>\n",
       "    <tr>\n",
       "      <td>7</td>\n",
       "      <td>0.024600</td>\n",
       "      <td>0.316383</td>\n",
       "      <td>0.623151</td>\n",
       "      <td>0.618496</td>\n",
       "      <td>0.620814</td>\n",
       "      <td>0.949606</td>\n",
       "    </tr>\n",
       "    <tr>\n",
       "      <td>8</td>\n",
       "      <td>0.017100</td>\n",
       "      <td>0.341068</td>\n",
       "      <td>0.620896</td>\n",
       "      <td>0.613859</td>\n",
       "      <td>0.617358</td>\n",
       "      <td>0.949276</td>\n",
       "    </tr>\n",
       "    <tr>\n",
       "      <td>9</td>\n",
       "      <td>0.009800</td>\n",
       "      <td>0.351868</td>\n",
       "      <td>0.633997</td>\n",
       "      <td>0.614889</td>\n",
       "      <td>0.624297</td>\n",
       "      <td>0.949782</td>\n",
       "    </tr>\n",
       "    <tr>\n",
       "      <td>10</td>\n",
       "      <td>0.007800</td>\n",
       "      <td>0.357783</td>\n",
       "      <td>0.631829</td>\n",
       "      <td>0.616692</td>\n",
       "      <td>0.624169</td>\n",
       "      <td>0.949869</td>\n",
       "    </tr>\n",
       "  </tbody>\n",
       "</table><p>"
      ],
      "text/plain": [
       "<IPython.core.display.HTML object>"
      ]
     },
     "metadata": {},
     "output_type": "display_data"
    },
    {
     "name": "stderr",
     "output_type": "stream",
     "text": [
      "C:\\Users\\abuboba\\.conda\\envs\\Assignment1_PMLDL\\Lib\\site-packages\\seqeval\\metrics\\v1.py:57: UndefinedMetricWarning: Precision and F-score are ill-defined and being set to 0.0 in labels with no predicted samples. Use `zero_division` parameter to control this behavior.\n",
      "  _warn_prf(average, modifier, msg_start, len(result))\n",
      "C:\\Users\\abuboba\\.conda\\envs\\Assignment1_PMLDL\\Lib\\site-packages\\seqeval\\metrics\\v1.py:57: UndefinedMetricWarning: Precision and F-score are ill-defined and being set to 0.0 in labels with no predicted samples. Use `zero_division` parameter to control this behavior.\n",
      "  _warn_prf(average, modifier, msg_start, len(result))\n",
      "C:\\Users\\abuboba\\.conda\\envs\\Assignment1_PMLDL\\Lib\\site-packages\\seqeval\\metrics\\v1.py:57: UndefinedMetricWarning: Precision and F-score are ill-defined and being set to 0.0 in labels with no predicted samples. Use `zero_division` parameter to control this behavior.\n",
      "  _warn_prf(average, modifier, msg_start, len(result))\n"
     ]
    },
    {
     "data": {
      "text/plain": [
       "TrainOutput(global_step=11580, training_loss=0.07849322992902963, metrics={'train_runtime': 1769.8617, 'train_samples_per_second': 52.337, 'train_steps_per_second': 6.543, 'total_flos': 1874042445546462.0, 'train_loss': 0.07849322992902963, 'epoch': 10.0})"
      ]
     },
     "execution_count": 16,
     "metadata": {},
     "output_type": "execute_result"
    }
   ],
   "source": [
    "training_args = TrainingArguments(\n",
    "    output_dir=model_checkpoint_path,\n",
    "    learning_rate=3e-5,\n",
    "    per_device_train_batch_size=8,\n",
    "    per_device_eval_batch_size=8,\n",
    "    num_train_epochs=10,\n",
    "    weight_decay=0.01,\n",
    "    evaluation_strategy=\"epoch\",\n",
    "    save_strategy=\"epoch\",\n",
    "    save_total_limit=1,\n",
    "    # load_best_model_at_end=True,\n",
    "    # push_to_hub=True,\n",
    ")\n",
    "\n",
    "trainer = Trainer(\n",
    "    model=model,\n",
    "    args=training_args,\n",
    "    train_dataset=tokenized_dataset[\"train\"],\n",
    "    eval_dataset=tokenized_dataset[\"test\"],\n",
    "    tokenizer=tokenizer,\n",
    "    data_collator=data_collator,\n",
    "    compute_metrics=compute_metrics,\n",
    ")\n",
    "\n",
    "trainer.train()"
   ]
  },
  {
   "cell_type": "code",
   "execution_count": 17,
   "metadata": {
    "id": "3RtsS24eH8G5"
   },
   "outputs": [],
   "source": [
    "pred = []\n",
    "\n",
    "for item in tokenized_dataset[\"test\"]:\n",
    "    a = tokenizer(item[\"tokens\"],truncation=True, padding=True,is_split_into_words=True, return_tensors=\"pt\").to(\"cuda\")\n",
    "    predictions = np.argmax(model(**a).logits.cpu().detach(), axis=2)\n",
    "    pred.extend(predictions)\n",
    "    # print(compute_metrics((model(**a).logits.cpu().detach(), tokenized_dataset[\"test\"][\"labels\"]), full=True))\n"
   ]
  },
  {
   "cell_type": "code",
   "execution_count": 18,
   "metadata": {
    "id": "F0BLdeRqEjsK"
   },
   "outputs": [],
   "source": [
    "dct = compute_metrics((pred, tokenized_dataset[\"test\"][\"labels\"]), True)"
   ]
  },
  {
   "cell_type": "code",
   "execution_count": 19,
   "metadata": {
    "colab": {
     "base_uri": "https://localhost:8080/"
    },
    "id": "Of0bu3RUP1zA",
    "outputId": "b551b64e-4271-41d7-90b7-7e8e4f12519e"
   },
   "outputs": [
    {
     "name": "stdout",
     "output_type": "stream",
     "text": [
      "ALG\t---\t{'precision': 0.5, 'recall': 0.3125, 'f1': 0.38461538461538464, 'number': 16}\n",
      "APP\t---\t{'precision': 0.6225165562913907, 'recall': 0.6928746928746928, 'f1': 0.655813953488372, 'number': 407}\n",
      "CB\t---\t{'precision': 0.4393939393939394, 'recall': 0.3841059602649007, 'f1': 0.40989399293286216, 'number': 302}\n",
      "CLA\t---\t{'precision': 0.5747126436781609, 'recall': 0.5882352941176471, 'f1': 0.5813953488372092, 'number': 510}\n",
      "DEV\t---\t{'precision': 0.6129032258064516, 'recall': 0.7169811320754716, 'f1': 0.6608695652173913, 'number': 53}\n",
      "DS\t---\t{'precision': 0.8278688524590164, 'recall': 0.8178137651821862, 'f1': 0.8228105906313646, 'number': 247}\n",
      "DT\t---\t{'precision': 0.7014925373134329, 'recall': 0.8468468468468469, 'f1': 0.7673469387755102, 'number': 111}\n",
      "FN\t---\t{'precision': 0.8120805369127517, 'recall': 0.7423312883435583, 'f1': 0.7756410256410257, 'number': 163}\n",
      "FT\t---\t{'precision': 0.7549019607843137, 'recall': 0.5968992248062015, 'f1': 0.6666666666666666, 'number': 129}\n",
      "FUN\t---\t{'precision': 0.6334841628959276, 'recall': 0.5263157894736842, 'f1': 0.5749486652977414, 'number': 266}\n",
      "HXT\t---\t{'precision': 0.5, 'recall': 0.4807692307692308, 'f1': 0.49019607843137253, 'number': 52}\n",
      "LAN\t---\t{'precision': 0.7606382978723404, 'recall': 0.8033707865168539, 'f1': 0.7814207650273224, 'number': 178}\n",
      "LIB\t---\t{'precision': 0.5690376569037657, 'recall': 0.5291828793774319, 'f1': 0.5483870967741936, 'number': 257}\n",
      "OS\t---\t{'precision': 0.8260869565217391, 'recall': 0.8636363636363636, 'f1': 0.8444444444444444, 'number': 66}\n",
      "UIE\t---\t{'precision': 0.6243523316062176, 'recall': 0.6788732394366197, 'f1': 0.650472334682861, 'number': 355}\n",
      "UN\t---\t{'precision': 0.6296296296296297, 'recall': 0.7083333333333334, 'f1': 0.6666666666666667, 'number': 24}\n",
      "VAL\t---\t{'precision': 0.5625, 'recall': 0.536697247706422, 'f1': 0.5492957746478873, 'number': 218}\n",
      "VAR\t---\t{'precision': 0.5061349693251533, 'recall': 0.4365079365079365, 'f1': 0.46875, 'number': 378}\n",
      "VER\t---\t{'precision': 0.9056603773584906, 'recall': 0.8648648648648649, 'f1': 0.8847926267281107, 'number': 111}\n",
      "WEB\t---\t{'precision': 0.7586206896551724, 'recall': 0.5641025641025641, 'f1': 0.6470588235294118, 'number': 39}\n",
      "overall_precision\t---\t0.6318289786223278\n",
      "overall_recall\t---\t0.616692426584235\n",
      "overall_f1\t---\t0.624168947985921\n",
      "overall_accuracy\t---\t0.9498693484991546\n"
     ]
    }
   ],
   "source": [
    "for x in dct:\n",
    "    print(x, \"---\", dct[x], sep=\"\\t\")"
   ]
  },
  {
   "cell_type": "code",
   "execution_count": 20,
   "metadata": {},
   "outputs": [],
   "source": [
    "with open(\"log_robert.txt\", \"wt\") as f:\n",
    "    f.write(f\"{trainer.state.log_history}\")"
   ]
  },
  {
   "cell_type": "code",
   "execution_count": null,
   "metadata": {},
   "outputs": [],
   "source": []
  }
 ],
 "metadata": {
  "accelerator": "GPU",
  "colab": {
   "gpuType": "T4",
   "provenance": []
  },
  "kernelspec": {
   "display_name": "Python 3 (ipykernel)",
   "language": "python",
   "name": "python3"
  },
  "language_info": {
   "codemirror_mode": {
    "name": "ipython",
    "version": 3
   },
   "file_extension": ".py",
   "mimetype": "text/x-python",
   "name": "python",
   "nbconvert_exporter": "python",
   "pygments_lexer": "ipython3",
   "version": "3.11.5"
  }
 },
 "nbformat": 4,
 "nbformat_minor": 4
}
